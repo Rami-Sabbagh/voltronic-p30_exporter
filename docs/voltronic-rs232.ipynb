{
 "cells": [
  {
   "cell_type": "markdown",
   "metadata": {},
   "source": [
    "This is a notebook to try out the standard Voltronic RS232 protocol."
   ]
  },
  {
   "cell_type": "markdown",
   "metadata": {},
   "source": [
    "## Required Libraries\n",
    "\n",
    "| Name       | Description                                            |\n",
    "|------------|--------------------------------------------------------|\n",
    "| `pyserial` | For serial communication with the inverter controller. |\n",
    "| `pandas`   | For displaying fancy tables.                           |"
   ]
  },
  {
   "cell_type": "code",
   "execution_count": 1,
   "metadata": {},
   "outputs": [],
   "source": [
    "import serial\n",
    "import pandas as pd"
   ]
  },
  {
   "cell_type": "markdown",
   "metadata": {},
   "source": [
    "## Checksum\n",
    "\n",
    "The Voltronic protocol uses CRC-16 (XMODEM variant) for calculating the checksum for messages."
   ]
  },
  {
   "cell_type": "code",
   "execution_count": 2,
   "metadata": {},
   "outputs": [],
   "source": [
    "CRC16_XMODEM_TABLE = [\n",
    "    0x0000, 0x1021, 0x2042, 0x3063, 0x4084, 0x50a5, 0x60c6, 0x70e7,\n",
    "    0x8108, 0x9129, 0xa14a, 0xb16b, 0xc18c, 0xd1ad, 0xe1ce, 0xf1ef,\n",
    "    0x1231, 0x0210, 0x3273, 0x2252, 0x52b5, 0x4294, 0x72f7, 0x62d6,\n",
    "    0x9339, 0x8318, 0xb37b, 0xa35a, 0xd3bd, 0xc39c, 0xf3ff, 0xe3de,\n",
    "    0x2462, 0x3443, 0x0420, 0x1401, 0x64e6, 0x74c7, 0x44a4, 0x5485,\n",
    "    0xa56a, 0xb54b, 0x8528, 0x9509, 0xe5ee, 0xf5cf, 0xc5ac, 0xd58d,\n",
    "    0x3653, 0x2672, 0x1611, 0x0630, 0x76d7, 0x66f6, 0x5695, 0x46b4,\n",
    "    0xb75b, 0xa77a, 0x9719, 0x8738, 0xf7df, 0xe7fe, 0xd79d, 0xc7bc,\n",
    "    0x48c4, 0x58e5, 0x6886, 0x78a7, 0x0840, 0x1861, 0x2802, 0x3823,\n",
    "    0xc9cc, 0xd9ed, 0xe98e, 0xf9af, 0x8948, 0x9969, 0xa90a, 0xb92b,\n",
    "    0x5af5, 0x4ad4, 0x7ab7, 0x6a96, 0x1a71, 0x0a50, 0x3a33, 0x2a12,\n",
    "    0xdbfd, 0xcbdc, 0xfbbf, 0xeb9e, 0x9b79, 0x8b58, 0xbb3b, 0xab1a,\n",
    "    0x6ca6, 0x7c87, 0x4ce4, 0x5cc5, 0x2c22, 0x3c03, 0x0c60, 0x1c41,\n",
    "    0xedae, 0xfd8f, 0xcdec, 0xddcd, 0xad2a, 0xbd0b, 0x8d68, 0x9d49,\n",
    "    0x7e97, 0x6eb6, 0x5ed5, 0x4ef4, 0x3e13, 0x2e32, 0x1e51, 0x0e70,\n",
    "    0xff9f, 0xefbe, 0xdfdd, 0xcffc, 0xbf1b, 0xaf3a, 0x9f59, 0x8f78,\n",
    "    0x9188, 0x81a9, 0xb1ca, 0xa1eb, 0xd10c, 0xc12d, 0xf14e, 0xe16f,\n",
    "    0x1080, 0x00a1, 0x30c2, 0x20e3, 0x5004, 0x4025, 0x7046, 0x6067,\n",
    "    0x83b9, 0x9398, 0xa3fb, 0xb3da, 0xc33d, 0xd31c, 0xe37f, 0xf35e,\n",
    "    0x02b1, 0x1290, 0x22f3, 0x32d2, 0x4235, 0x5214, 0x6277, 0x7256,\n",
    "    0xb5ea, 0xa5cb, 0x95a8, 0x8589, 0xf56e, 0xe54f, 0xd52c, 0xc50d,\n",
    "    0x34e2, 0x24c3, 0x14a0, 0x0481, 0x7466, 0x6447, 0x5424, 0x4405,\n",
    "    0xa7db, 0xb7fa, 0x8799, 0x97b8, 0xe75f, 0xf77e, 0xc71d, 0xd73c,\n",
    "    0x26d3, 0x36f2, 0x0691, 0x16b0, 0x6657, 0x7676, 0x4615, 0x5634,\n",
    "    0xd94c, 0xc96d, 0xf90e, 0xe92f, 0x99c8, 0x89e9, 0xb98a, 0xa9ab,\n",
    "    0x5844, 0x4865, 0x7806, 0x6827, 0x18c0, 0x08e1, 0x3882, 0x28a3,\n",
    "    0xcb7d, 0xdb5c, 0xeb3f, 0xfb1e, 0x8bf9, 0x9bd8, 0xabbb, 0xbb9a,\n",
    "    0x4a75, 0x5a54, 0x6a37, 0x7a16, 0x0af1, 0x1ad0, 0x2ab3, 0x3a92,\n",
    "    0xfd2e, 0xed0f, 0xdd6c, 0xcd4d, 0xbdaa, 0xad8b, 0x9de8, 0x8dc9,\n",
    "    0x7c26, 0x6c07, 0x5c64, 0x4c45, 0x3ca2, 0x2c83, 0x1ce0, 0x0cc1,\n",
    "    0xef1f, 0xff3e, 0xcf5d, 0xdf7c, 0xaf9b, 0xbfba, 0x8fd9, 0x9ff8,\n",
    "    0x6e17, 0x7e36, 0x4e55, 0x5e74, 0x2e93, 0x3eb2, 0x0ed1, 0x1ef0,\n",
    "]\n",
    "\n",
    "def crc16_xmodem(data: bytes) -> int:\n",
    "    crc = 0\n",
    "\n",
    "    for byte in data:\n",
    "        index = ((crc >> 8) ^ byte) & 0xFF\n",
    "        crc = (CRC16_XMODEM_TABLE[index] ^ (crc << 8)) & 0xFFFF\n",
    "\n",
    "    return crc & 0xFFFF"
   ]
  },
  {
   "cell_type": "code",
   "execution_count": 3,
   "metadata": {},
   "outputs": [
    {
     "data": {
      "text/plain": [
       "'0xbeac'"
      ]
     },
     "execution_count": 3,
     "metadata": {},
     "output_type": "execute_result"
    }
   ],
   "source": [
    "hex(crc16_xmodem(bytes(\"QPI\", \"ascii\")))\n",
    "# Expected output: 0xbeac"
   ]
  },
  {
   "cell_type": "code",
   "execution_count": 4,
   "metadata": {},
   "outputs": [
    {
     "data": {
      "text/plain": [
       "('QPI', '51 50 49 be ac 0d')"
      ]
     },
     "execution_count": 4,
     "metadata": {},
     "output_type": "execute_result"
    }
   ],
   "source": [
    "def pack_message(message: str, encoding='ascii') -> bytes:\n",
    "    \"\"\"\n",
    "    Packs the message into the transmission ready format.\n",
    "    \n",
    "    Calculates the checksum of the message and appends it to the message with a carriage return\n",
    "    as specified by the protocol.\n",
    "    \"\"\"\n",
    "    result = bytearray(message, encoding)\n",
    "\n",
    "    checksum = crc16_xmodem(bytes(result))\n",
    "    \n",
    "    result.append(checksum >> 8)\n",
    "    result.append(checksum & 0xFF)\n",
    "    result.append(0x0D) # Carriage Return\n",
    "\n",
    "    return bytes(result)\n",
    "\n",
    "(\"QPI\", pack_message(\"QPI\").hex(' '))"
   ]
  },
  {
   "cell_type": "code",
   "execution_count": 5,
   "metadata": {},
   "outputs": [
    {
     "data": {
      "text/plain": [
       "'QPI'"
      ]
     },
     "execution_count": 5,
     "metadata": {},
     "output_type": "execute_result"
    }
   ],
   "source": [
    "def unpack_message(data: bytes, encoding='ascii') -> str:\n",
    "    \"\"\"\n",
    "    Unpack the message from the transmitted format.\n",
    "\n",
    "    Validates the checksum and strips it from the message as specified by the protocol.\n",
    "    \"\"\"\n",
    "\n",
    "    if data[-1] != 0x0D:\n",
    "        print(f'Data: {data.decode(\"ascii\", errors=\"backslashreplace\")}')\n",
    "        raise Exception(\"Message missing carriage return.\")\n",
    "    raw_message = data[:-3]\n",
    "    \n",
    "    packed_checksum = (data[-3] << 8) | data[-2]\n",
    "    calculated_checksum = crc16_xmodem(raw_message)\n",
    "\n",
    "    if packed_checksum != calculated_checksum:\n",
    "        print(f'Data: {data.decode(\"ascii\", errors=\"backslashreplace\")}')\n",
    "        print(f'Calculate Checksum: {calculated_checksum}')\n",
    "        print(f'   Packed Checksum: {packed_checksum}')\n",
    "        raise Exception(\"Unmatching checksum.\")\n",
    "    \n",
    "    if raw_message[0] == 0x28: # '(' character.\n",
    "        raw_message = raw_message[1:]\n",
    "\n",
    "    return raw_message.decode(encoding)\n",
    "\n",
    "unpack_message(pack_message('QPI'))"
   ]
  },
  {
   "cell_type": "code",
   "execution_count": 6,
   "metadata": {},
   "outputs": [
    {
     "name": "stdout",
     "output_type": "stream",
     "text": [
      "/dev/ttyUSB0        \n",
      "    desc: USB-Serial Controller C\n",
      "    hwid: USB VID:PID=067B:2303 LOCATION=1-1.5\n",
      "1 ports found\n"
     ]
    }
   ],
   "source": [
    "!python3 -m serial.tools.list_ports -v"
   ]
  },
  {
   "cell_type": "code",
   "execution_count": 7,
   "metadata": {},
   "outputs": [],
   "source": [
    "connection = serial.Serial('/dev/ttyUSB0', baudrate=2400, timeout=2)"
   ]
  },
  {
   "cell_type": "code",
   "execution_count": 8,
   "metadata": {},
   "outputs": [],
   "source": [
    "def execute_command(command: str, reset_buffers=False) -> str:\n",
    "    if reset_buffers:\n",
    "        connection.reset_input_buffer()\n",
    "        connection.reset_output_buffer()\n",
    "\n",
    "    connection.write(pack_message(command))\n",
    "    return unpack_message(connection.read_until(b'\\r'))"
   ]
  },
  {
   "cell_type": "markdown",
   "metadata": {},
   "source": [
    "### Query Protocol ID"
   ]
  },
  {
   "cell_type": "code",
   "execution_count": 9,
   "metadata": {},
   "outputs": [
    {
     "data": {
      "text/plain": [
       "'PI30'"
      ]
     },
     "execution_count": 9,
     "metadata": {},
     "output_type": "execute_result"
    }
   ],
   "source": [
    "execute_command('QPI')"
   ]
  },
  {
   "cell_type": "markdown",
   "metadata": {},
   "source": [
    "### Query Device Serial Number"
   ]
  },
  {
   "cell_type": "code",
   "execution_count": 10,
   "metadata": {},
   "outputs": [
    {
     "data": {
      "text/plain": [
       "'<208q008<20808'"
      ]
     },
     "execution_count": 10,
     "metadata": {},
     "output_type": "execute_result"
    }
   ],
   "source": [
    "execute_command('QID')"
   ]
  },
  {
   "cell_type": "markdown",
   "metadata": {},
   "source": [
    "### Query MPPT CPU Firmware Version"
   ]
  },
  {
   "cell_type": "code",
   "execution_count": 11,
   "metadata": {},
   "outputs": [
    {
     "data": {
      "text/plain": [
       "'VERFW:10270.03'"
      ]
     },
     "execution_count": 11,
     "metadata": {},
     "output_type": "execute_result"
    }
   ],
   "source": [
    "execute_command('QVFW')"
   ]
  },
  {
   "cell_type": "markdown",
   "metadata": {},
   "source": [
    "### Query Model Name"
   ]
  },
  {
   "cell_type": "code",
   "execution_count": 12,
   "metadata": {},
   "outputs": [
    {
     "data": {
      "text/plain": [
       "'VMII-NXPW5KW'"
      ]
     },
     "execution_count": 12,
     "metadata": {},
     "output_type": "execute_result"
    }
   ],
   "source": [
    "execute_command('QMN')"
   ]
  },
  {
   "cell_type": "markdown",
   "metadata": {},
   "source": [
    "### Query Device Mode"
   ]
  },
  {
   "cell_type": "markdown",
   "metadata": {},
   "source": [
    "| Code  | Mode              |\n",
    "|-------:|-------------------|\n",
    "| P     | Power On Mode     |\n",
    "| S     | Standby Mode      |\n",
    "| Y     | Bypass Mode       |\n",
    "| **L** | **Line Mode**     |\n",
    "| **B** | **Battery Mode**  |\n",
    "| BT    | Battery Test Mode |\n",
    "| F     | Fault Mode        |\n",
    "| D     | Shutdown Mode     |\n",
    "| G     | Grid Mode         |\n",
    "| **C** | **Charge Mode**   |"
   ]
  },
  {
   "cell_type": "code",
   "execution_count": 13,
   "metadata": {},
   "outputs": [
    {
     "data": {
      "text/plain": [
       "'L'"
      ]
     },
     "execution_count": 13,
     "metadata": {},
     "output_type": "execute_result"
    }
   ],
   "source": [
    "execute_command('QMOD')"
   ]
  },
  {
   "cell_type": "markdown",
   "metadata": {},
   "source": [
    "### Query Device Rated Information"
   ]
  },
  {
   "cell_type": "markdown",
   "metadata": {},
   "source": [
    "_Details are available in the official documents_"
   ]
  },
  {
   "cell_type": "code",
   "execution_count": 14,
   "metadata": {},
   "outputs": [],
   "source": [
    "qpiri_data = execute_command('QPIRI').split(' ')"
   ]
  },
  {
   "cell_type": "code",
   "execution_count": 15,
   "metadata": {},
   "outputs": [
    {
     "data": {
      "text/html": [
       "<div>\n",
       "<style scoped>\n",
       "    .dataframe tbody tr th:only-of-type {\n",
       "        vertical-align: middle;\n",
       "    }\n",
       "\n",
       "    .dataframe tbody tr th {\n",
       "        vertical-align: top;\n",
       "    }\n",
       "\n",
       "    .dataframe thead th {\n",
       "        text-align: right;\n",
       "    }\n",
       "</style>\n",
       "<table border=\"1\" class=\"dataframe\">\n",
       "  <thead>\n",
       "    <tr style=\"text-align: right;\">\n",
       "      <th></th>\n",
       "      <th>Value</th>\n",
       "      <th>Description</th>\n",
       "    </tr>\n",
       "  </thead>\n",
       "  <tbody>\n",
       "    <tr>\n",
       "      <th>0</th>\n",
       "      <td>220.0</td>\n",
       "      <td>Grid Rating Voltage (V)</td>\n",
       "    </tr>\n",
       "    <tr>\n",
       "      <th>1</th>\n",
       "      <td>13.0</td>\n",
       "      <td>Gird Rating Current (A)</td>\n",
       "    </tr>\n",
       "    <tr>\n",
       "      <th>2</th>\n",
       "      <td>220.0</td>\n",
       "      <td>AC Output Rating Voltage (V)</td>\n",
       "    </tr>\n",
       "    <tr>\n",
       "      <th>3</th>\n",
       "      <td>50.0</td>\n",
       "      <td>AC Output Rating Frequency (Hz)</td>\n",
       "    </tr>\n",
       "    <tr>\n",
       "      <th>4</th>\n",
       "      <td>13.6</td>\n",
       "      <td>AC Output Rating Current (A)</td>\n",
       "    </tr>\n",
       "    <tr>\n",
       "      <th>5</th>\n",
       "      <td>3000</td>\n",
       "      <td>AC Output Rating Appearent Power (W)</td>\n",
       "    </tr>\n",
       "    <tr>\n",
       "      <th>6</th>\n",
       "      <td>3000</td>\n",
       "      <td>AC Output Rating Active Power (W)</td>\n",
       "    </tr>\n",
       "    <tr>\n",
       "      <th>7</th>\n",
       "      <td>24.0</td>\n",
       "      <td>Battery Rating Voltage (V)</td>\n",
       "    </tr>\n",
       "    <tr>\n",
       "      <th>8</th>\n",
       "      <td>22.0</td>\n",
       "      <td>Battery Re-charge Voltage (V)</td>\n",
       "    </tr>\n",
       "    <tr>\n",
       "      <th>9</th>\n",
       "      <td>20.0</td>\n",
       "      <td>Battery Under Voltage (V)</td>\n",
       "    </tr>\n",
       "    <tr>\n",
       "      <th>10</th>\n",
       "      <td>28.2</td>\n",
       "      <td>Battery Bulk Voltage (V)</td>\n",
       "    </tr>\n",
       "    <tr>\n",
       "      <th>11</th>\n",
       "      <td>27.0</td>\n",
       "      <td>Battery Float Voltage (V)</td>\n",
       "    </tr>\n",
       "    <tr>\n",
       "      <th>12</th>\n",
       "      <td>0</td>\n",
       "      <td>Battery Type (AGM, Flooded, User)</td>\n",
       "    </tr>\n",
       "    <tr>\n",
       "      <th>13</th>\n",
       "      <td>30</td>\n",
       "      <td>AC Charing Current (A)</td>\n",
       "    </tr>\n",
       "    <tr>\n",
       "      <th>14</th>\n",
       "      <td>060</td>\n",
       "      <td>Current Max Charging Current (A)</td>\n",
       "    </tr>\n",
       "    <tr>\n",
       "      <th>15</th>\n",
       "      <td>0</td>\n",
       "      <td>Input Voltage Range (0: Appliance, 1: UPS)</td>\n",
       "    </tr>\n",
       "    <tr>\n",
       "      <th>16</th>\n",
       "      <td>0</td>\n",
       "      <td>Output Source (0: Utility, 1: Solar)</td>\n",
       "    </tr>\n",
       "    <tr>\n",
       "      <th>17</th>\n",
       "      <td>2</td>\n",
       "      <td>Charge Source (1: Solar, 2: Solar &amp; Utility, 3...</td>\n",
       "    </tr>\n",
       "    <tr>\n",
       "      <th>18</th>\n",
       "      <td>1</td>\n",
       "      <td>Parallel Maximum Number</td>\n",
       "    </tr>\n",
       "    <tr>\n",
       "      <th>19</th>\n",
       "      <td>01</td>\n",
       "      <td>Machine Type (00: Grid tie, 01,30: Standalone,...</td>\n",
       "    </tr>\n",
       "    <tr>\n",
       "      <th>20</th>\n",
       "      <td>0</td>\n",
       "      <td>Topology (0: Tranformer-less, 1: Transformer)</td>\n",
       "    </tr>\n",
       "    <tr>\n",
       "      <th>21</th>\n",
       "      <td>0</td>\n",
       "      <td>Output Mode</td>\n",
       "    </tr>\n",
       "    <tr>\n",
       "      <th>22</th>\n",
       "      <td>00.0</td>\n",
       "      <td>Battery Re-discharge Voltage (V)</td>\n",
       "    </tr>\n",
       "    <tr>\n",
       "      <th>23</th>\n",
       "      <td>0</td>\n",
       "      <td>PV OK</td>\n",
       "    </tr>\n",
       "    <tr>\n",
       "      <th>24</th>\n",
       "      <td>1</td>\n",
       "      <td>PV Power Balance</td>\n",
       "    </tr>\n",
       "  </tbody>\n",
       "</table>\n",
       "</div>"
      ],
      "text/plain": [
       "    Value                                        Description\n",
       "0   220.0                            Grid Rating Voltage (V)\n",
       "1    13.0                            Gird Rating Current (A)\n",
       "2   220.0                       AC Output Rating Voltage (V)\n",
       "3    50.0                    AC Output Rating Frequency (Hz)\n",
       "4    13.6                       AC Output Rating Current (A)\n",
       "5    3000               AC Output Rating Appearent Power (W)\n",
       "6    3000                  AC Output Rating Active Power (W)\n",
       "7    24.0                         Battery Rating Voltage (V)\n",
       "8    22.0                      Battery Re-charge Voltage (V)\n",
       "9    20.0                          Battery Under Voltage (V)\n",
       "10   28.2                           Battery Bulk Voltage (V)\n",
       "11   27.0                          Battery Float Voltage (V)\n",
       "12      0                  Battery Type (AGM, Flooded, User)\n",
       "13     30                             AC Charing Current (A)\n",
       "14    060                   Current Max Charging Current (A)\n",
       "15      0         Input Voltage Range (0: Appliance, 1: UPS)\n",
       "16      0               Output Source (0: Utility, 1: Solar)\n",
       "17      2  Charge Source (1: Solar, 2: Solar & Utility, 3...\n",
       "18      1                            Parallel Maximum Number\n",
       "19     01  Machine Type (00: Grid tie, 01,30: Standalone,...\n",
       "20      0      Topology (0: Tranformer-less, 1: Transformer)\n",
       "21      0                                        Output Mode\n",
       "22   00.0                   Battery Re-discharge Voltage (V)\n",
       "23      0                                              PV OK\n",
       "24      1                                   PV Power Balance"
      ]
     },
     "execution_count": 15,
     "metadata": {},
     "output_type": "execute_result"
    }
   ],
   "source": [
    "pd.DataFrame(zip(qpiri_data, [\n",
    "    'Grid Rating Voltage (V)',\n",
    "    'Gird Rating Current (A)',\n",
    "    'AC Output Rating Voltage (V)',\n",
    "    'AC Output Rating Frequency (Hz)',\n",
    "    'AC Output Rating Current (A)',\n",
    "    'AC Output Rating Appearent Power (W)',\n",
    "    'AC Output Rating Active Power (W)',\n",
    "    'Battery Rating Voltage (V)',\n",
    "    'Battery Re-charge Voltage (V)',\n",
    "    'Battery Under Voltage (V)',\n",
    "    'Battery Bulk Voltage (V)',\n",
    "    'Battery Float Voltage (V)',\n",
    "    'Battery Type (AGM, Flooded, User)',\n",
    "    'AC Charing Current (A)',\n",
    "    'Current Max Charging Current (A)',\n",
    "    'Input Voltage Range (0: Appliance, 1: UPS)',\n",
    "    'Output Source (0: Utility, 1: Solar)',\n",
    "    'Charge Source (1: Solar, 2: Solar & Utility, 3: Only Solar)',\n",
    "    'Parallel Maximum Number',\n",
    "    'Machine Type (00: Grid tie, 01,30: Standalone, 10: Hybrid)',\n",
    "    'Topology (0: Tranformer-less, 1: Transformer)',\n",
    "    'Output Mode',\n",
    "    'Battery Re-discharge Voltage (V)',\n",
    "    'PV OK',\n",
    "    'PV Power Balance',\n",
    "]), columns=['Value', 'Description'])"
   ]
  },
  {
   "cell_type": "markdown",
   "metadata": {},
   "source": [
    "### Query General Status Parameters"
   ]
  },
  {
   "cell_type": "code",
   "execution_count": 16,
   "metadata": {},
   "outputs": [],
   "source": [
    "qpigs_data = execute_command('QPIGS').split(' ')"
   ]
  },
  {
   "cell_type": "code",
   "execution_count": 17,
   "metadata": {},
   "outputs": [
    {
     "data": {
      "text/html": [
       "<div>\n",
       "<style scoped>\n",
       "    .dataframe tbody tr th:only-of-type {\n",
       "        vertical-align: middle;\n",
       "    }\n",
       "\n",
       "    .dataframe tbody tr th {\n",
       "        vertical-align: top;\n",
       "    }\n",
       "\n",
       "    .dataframe thead th {\n",
       "        text-align: right;\n",
       "    }\n",
       "</style>\n",
       "<table border=\"1\" class=\"dataframe\">\n",
       "  <thead>\n",
       "    <tr style=\"text-align: right;\">\n",
       "      <th></th>\n",
       "      <th>Value</th>\n",
       "      <th>Description</th>\n",
       "    </tr>\n",
       "  </thead>\n",
       "  <tbody>\n",
       "    <tr>\n",
       "      <th>0</th>\n",
       "      <td>217.1</td>\n",
       "      <td>AC Voltage (V)</td>\n",
       "    </tr>\n",
       "    <tr>\n",
       "      <th>1</th>\n",
       "      <td>49.5</td>\n",
       "      <td>AC Frequency (Hz)</td>\n",
       "    </tr>\n",
       "    <tr>\n",
       "      <th>2</th>\n",
       "      <td>217.1</td>\n",
       "      <td>Output Voltage (V)</td>\n",
       "    </tr>\n",
       "    <tr>\n",
       "      <th>3</th>\n",
       "      <td>49.5</td>\n",
       "      <td>Output Frequency (Hz)</td>\n",
       "    </tr>\n",
       "    <tr>\n",
       "      <th>4</th>\n",
       "      <td>0183</td>\n",
       "      <td>Output Apparent Power (W)</td>\n",
       "    </tr>\n",
       "    <tr>\n",
       "      <th>5</th>\n",
       "      <td>0149</td>\n",
       "      <td>Output Active Power (W)</td>\n",
       "    </tr>\n",
       "    <tr>\n",
       "      <th>6</th>\n",
       "      <td>005</td>\n",
       "      <td>Output Load (%)</td>\n",
       "    </tr>\n",
       "    <tr>\n",
       "      <th>7</th>\n",
       "      <td>429</td>\n",
       "      <td>Bus Voltage (V)</td>\n",
       "    </tr>\n",
       "    <tr>\n",
       "      <th>8</th>\n",
       "      <td>27.00</td>\n",
       "      <td>Battery Voltage (V)</td>\n",
       "    </tr>\n",
       "    <tr>\n",
       "      <th>9</th>\n",
       "      <td>007</td>\n",
       "      <td>Charging Current (A)</td>\n",
       "    </tr>\n",
       "    <tr>\n",
       "      <th>10</th>\n",
       "      <td>100</td>\n",
       "      <td>Battery Capacity (%)</td>\n",
       "    </tr>\n",
       "    <tr>\n",
       "      <th>11</th>\n",
       "      <td>054</td>\n",
       "      <td>Heatsink Temperature (°C)</td>\n",
       "    </tr>\n",
       "    <tr>\n",
       "      <th>12</th>\n",
       "      <td>00.1</td>\n",
       "      <td>PV Input Current (A)</td>\n",
       "    </tr>\n",
       "    <tr>\n",
       "      <th>13</th>\n",
       "      <td>027.8</td>\n",
       "      <td>PV Input Voltage (V)</td>\n",
       "    </tr>\n",
       "    <tr>\n",
       "      <th>14</th>\n",
       "      <td>00.00</td>\n",
       "      <td>Battery Voltage From SCC (V)</td>\n",
       "    </tr>\n",
       "    <tr>\n",
       "      <th>15</th>\n",
       "      <td>00000</td>\n",
       "      <td>Battery Discharge Current (A)</td>\n",
       "    </tr>\n",
       "    <tr>\n",
       "      <th>16</th>\n",
       "      <td>00010111</td>\n",
       "      <td>Device Status (Flags)</td>\n",
       "    </tr>\n",
       "    <tr>\n",
       "      <th>17</th>\n",
       "      <td>00</td>\n",
       "      <td>Battery Voltage Offest For Fans On (10mV)</td>\n",
       "    </tr>\n",
       "    <tr>\n",
       "      <th>18</th>\n",
       "      <td>00</td>\n",
       "      <td>EEPROM Version</td>\n",
       "    </tr>\n",
       "    <tr>\n",
       "      <th>19</th>\n",
       "      <td>00002</td>\n",
       "      <td>PV Charging Power (W)</td>\n",
       "    </tr>\n",
       "    <tr>\n",
       "      <th>20</th>\n",
       "      <td>110</td>\n",
       "      <td>Device Status</td>\n",
       "    </tr>\n",
       "  </tbody>\n",
       "</table>\n",
       "</div>"
      ],
      "text/plain": [
       "       Value                                Description\n",
       "0      217.1                             AC Voltage (V)\n",
       "1       49.5                          AC Frequency (Hz)\n",
       "2      217.1                         Output Voltage (V)\n",
       "3       49.5                      Output Frequency (Hz)\n",
       "4       0183                  Output Apparent Power (W)\n",
       "5       0149                    Output Active Power (W)\n",
       "6        005                            Output Load (%)\n",
       "7        429                            Bus Voltage (V)\n",
       "8      27.00                        Battery Voltage (V)\n",
       "9        007                       Charging Current (A)\n",
       "10       100                       Battery Capacity (%)\n",
       "11       054                  Heatsink Temperature (°C)\n",
       "12      00.1                       PV Input Current (A)\n",
       "13     027.8                       PV Input Voltage (V)\n",
       "14     00.00               Battery Voltage From SCC (V)\n",
       "15     00000              Battery Discharge Current (A)\n",
       "16  00010111                      Device Status (Flags)\n",
       "17        00  Battery Voltage Offest For Fans On (10mV)\n",
       "18        00                             EEPROM Version\n",
       "19     00002                      PV Charging Power (W)\n",
       "20       110                              Device Status"
      ]
     },
     "execution_count": 17,
     "metadata": {},
     "output_type": "execute_result"
    }
   ],
   "source": [
    "pd.DataFrame(zip(qpigs_data, [\n",
    "    'AC Voltage (V)',\n",
    "    'AC Frequency (Hz)',\n",
    "    'Output Voltage (V)',\n",
    "    'Output Frequency (Hz)',\n",
    "    'Output Apparent Power (W)',\n",
    "    'Output Active Power (W)',\n",
    "    'Output Load (%)',\n",
    "    'Bus Voltage (V)',\n",
    "    'Battery Voltage (V)',\n",
    "    'Charging Current (A)',\n",
    "    'Battery Capacity (%)',\n",
    "    'Heatsink Temperature (°C)',\n",
    "    'PV Input Current (A)',\n",
    "    'PV Input Voltage (V)',\n",
    "    'Battery Voltage From SCC (V)',\n",
    "    'Battery Discharge Current (A)',\n",
    "    'Device Status (Flags)',\n",
    "    'Battery Voltage Offest For Fans On (10mV)',\n",
    "    'EEPROM Version',\n",
    "    'PV Charging Power (W)',\n",
    "    'Device Flags (Flags)',\n",
    "]), columns=['Value', 'Description'])"
   ]
  },
  {
   "cell_type": "code",
   "execution_count": 18,
   "metadata": {},
   "outputs": [
    {
     "data": {
      "text/html": [
       "<div>\n",
       "<style scoped>\n",
       "    .dataframe tbody tr th:only-of-type {\n",
       "        vertical-align: middle;\n",
       "    }\n",
       "\n",
       "    .dataframe tbody tr th {\n",
       "        vertical-align: top;\n",
       "    }\n",
       "\n",
       "    .dataframe thead th {\n",
       "        text-align: right;\n",
       "    }\n",
       "</style>\n",
       "<table border=\"1\" class=\"dataframe\">\n",
       "  <thead>\n",
       "    <tr style=\"text-align: right;\">\n",
       "      <th></th>\n",
       "      <th>Flag</th>\n",
       "      <th>Value</th>\n",
       "    </tr>\n",
       "  </thead>\n",
       "  <tbody>\n",
       "    <tr>\n",
       "      <th>0</th>\n",
       "      <td>SBU Priority Version</td>\n",
       "      <td>0</td>\n",
       "    </tr>\n",
       "    <tr>\n",
       "      <th>1</th>\n",
       "      <td>Configuration Changed</td>\n",
       "      <td>0</td>\n",
       "    </tr>\n",
       "    <tr>\n",
       "      <th>2</th>\n",
       "      <td>Solar Firmware Version Changed</td>\n",
       "      <td>0</td>\n",
       "    </tr>\n",
       "    <tr>\n",
       "      <th>3</th>\n",
       "      <td>Has Load</td>\n",
       "      <td>1</td>\n",
       "    </tr>\n",
       "    <tr>\n",
       "      <th>4</th>\n",
       "      <td>Steady Battery Voltage While Charging</td>\n",
       "      <td>0</td>\n",
       "    </tr>\n",
       "    <tr>\n",
       "      <th>5</th>\n",
       "      <td>Charge On</td>\n",
       "      <td>1</td>\n",
       "    </tr>\n",
       "    <tr>\n",
       "      <th>6</th>\n",
       "      <td>Solar Charge On</td>\n",
       "      <td>1</td>\n",
       "    </tr>\n",
       "    <tr>\n",
       "      <th>7</th>\n",
       "      <td>Utility Charge On</td>\n",
       "      <td>1</td>\n",
       "    </tr>\n",
       "  </tbody>\n",
       "</table>\n",
       "</div>"
      ],
      "text/plain": [
       "                                    Flag Value\n",
       "0                   SBU Priority Version     0\n",
       "1                  Configuration Changed     0\n",
       "2         Solar Firmware Version Changed     0\n",
       "3                               Has Load     1\n",
       "4  Steady Battery Voltage While Charging     0\n",
       "5                              Charge On     1\n",
       "6                        Solar Charge On     1\n",
       "7                      Utility Charge On     1"
      ]
     },
     "execution_count": 18,
     "metadata": {},
     "output_type": "execute_result"
    }
   ],
   "source": [
    "pd.DataFrame(zip([\n",
    "    'SBU Priority Version',\n",
    "    'Configuration Changed',\n",
    "    'Solar Firmware Version Changed',\n",
    "    'Has Load',\n",
    "    'Steady Battery Voltage While Charging',\n",
    "    'Charge On',\n",
    "    'Solar Charge On',\n",
    "    'Utility Charge On',\n",
    "], qpigs_data[16]), columns=['Flag', 'Value'])"
   ]
  },
  {
   "cell_type": "code",
   "execution_count": 19,
   "metadata": {},
   "outputs": [
    {
     "data": {
      "text/html": [
       "<div>\n",
       "<style scoped>\n",
       "    .dataframe tbody tr th:only-of-type {\n",
       "        vertical-align: middle;\n",
       "    }\n",
       "\n",
       "    .dataframe tbody tr th {\n",
       "        vertical-align: top;\n",
       "    }\n",
       "\n",
       "    .dataframe thead th {\n",
       "        text-align: right;\n",
       "    }\n",
       "</style>\n",
       "<table border=\"1\" class=\"dataframe\">\n",
       "  <thead>\n",
       "    <tr style=\"text-align: right;\">\n",
       "      <th></th>\n",
       "      <th>Flag</th>\n",
       "      <th>Value</th>\n",
       "    </tr>\n",
       "  </thead>\n",
       "  <tbody>\n",
       "    <tr>\n",
       "      <th>0</th>\n",
       "      <td>Charging to Floating Mode</td>\n",
       "      <td>1</td>\n",
       "    </tr>\n",
       "    <tr>\n",
       "      <th>1</th>\n",
       "      <td>Switch On</td>\n",
       "      <td>1</td>\n",
       "    </tr>\n",
       "    <tr>\n",
       "      <th>2</th>\n",
       "      <td>Dustproof Installed</td>\n",
       "      <td>0</td>\n",
       "    </tr>\n",
       "  </tbody>\n",
       "</table>\n",
       "</div>"
      ],
      "text/plain": [
       "                        Flag Value\n",
       "0  Charging to Floating Mode     1\n",
       "1                  Switch On     1\n",
       "2        Dustproof Installed     0"
      ]
     },
     "execution_count": 19,
     "metadata": {},
     "output_type": "execute_result"
    }
   ],
   "source": [
    "pd.DataFrame(zip([\n",
    "    'Charging to Floating Mode',\n",
    "    'Switch On',\n",
    "    'Dustproof Installed',\n",
    "], qpigs_data[20]), columns=['Flag', 'Value'])"
   ]
  },
  {
   "cell_type": "markdown",
   "metadata": {},
   "source": [
    "### Query Default Setting Value Information"
   ]
  },
  {
   "cell_type": "code",
   "execution_count": 20,
   "metadata": {},
   "outputs": [],
   "source": [
    "qdi_data = execute_command('QDI').split(' ')"
   ]
  },
  {
   "cell_type": "code",
   "execution_count": 21,
   "metadata": {},
   "outputs": [
    {
     "data": {
      "text/html": [
       "<div>\n",
       "<style scoped>\n",
       "    .dataframe tbody tr th:only-of-type {\n",
       "        vertical-align: middle;\n",
       "    }\n",
       "\n",
       "    .dataframe tbody tr th {\n",
       "        vertical-align: top;\n",
       "    }\n",
       "\n",
       "    .dataframe thead th {\n",
       "        text-align: right;\n",
       "    }\n",
       "</style>\n",
       "<table border=\"1\" class=\"dataframe\">\n",
       "  <thead>\n",
       "    <tr style=\"text-align: right;\">\n",
       "      <th></th>\n",
       "      <th>Value</th>\n",
       "      <th>Description</th>\n",
       "    </tr>\n",
       "  </thead>\n",
       "  <tbody>\n",
       "    <tr>\n",
       "      <th>0</th>\n",
       "      <td>230.0</td>\n",
       "      <td>AC Output Voltage (V)</td>\n",
       "    </tr>\n",
       "    <tr>\n",
       "      <th>1</th>\n",
       "      <td>50.0</td>\n",
       "      <td>AC Output Frequency (Hz)</td>\n",
       "    </tr>\n",
       "    <tr>\n",
       "      <th>2</th>\n",
       "      <td>0030</td>\n",
       "      <td>Maximum AC Charging Current (A)</td>\n",
       "    </tr>\n",
       "    <tr>\n",
       "      <th>3</th>\n",
       "      <td>21.0</td>\n",
       "      <td>Battery Under Voltage (V)</td>\n",
       "    </tr>\n",
       "    <tr>\n",
       "      <th>4</th>\n",
       "      <td>27.0</td>\n",
       "      <td>Charging Float Voltage (V)</td>\n",
       "    </tr>\n",
       "    <tr>\n",
       "      <th>5</th>\n",
       "      <td>28.2</td>\n",
       "      <td>Charging Bulk Voltage (V)</td>\n",
       "    </tr>\n",
       "    <tr>\n",
       "      <th>6</th>\n",
       "      <td>23.0</td>\n",
       "      <td>Battery Default Re-charge Voltage (V)</td>\n",
       "    </tr>\n",
       "    <tr>\n",
       "      <th>7</th>\n",
       "      <td>50</td>\n",
       "      <td>Max Charging Current (A)</td>\n",
       "    </tr>\n",
       "    <tr>\n",
       "      <th>8</th>\n",
       "      <td>0</td>\n",
       "      <td>Input Voltage Range (0: Appliance, 1: UPS)</td>\n",
       "    </tr>\n",
       "    <tr>\n",
       "      <th>9</th>\n",
       "      <td>0</td>\n",
       "      <td>Output Source (0: Utility, 1: Solar)</td>\n",
       "    </tr>\n",
       "    <tr>\n",
       "      <th>10</th>\n",
       "      <td>2</td>\n",
       "      <td>Charge Source (1: Solar, 2: Solar &amp; Utility, 3...</td>\n",
       "    </tr>\n",
       "    <tr>\n",
       "      <th>11</th>\n",
       "      <td>0</td>\n",
       "      <td>Battery Type</td>\n",
       "    </tr>\n",
       "    <tr>\n",
       "      <th>12</th>\n",
       "      <td>0</td>\n",
       "      <td>Silence Buzzer (0/1)</td>\n",
       "    </tr>\n",
       "    <tr>\n",
       "      <th>13</th>\n",
       "      <td>0</td>\n",
       "      <td>Power Saving (0/1)</td>\n",
       "    </tr>\n",
       "    <tr>\n",
       "      <th>14</th>\n",
       "      <td>0</td>\n",
       "      <td>Overload Restart (0/1)</td>\n",
       "    </tr>\n",
       "    <tr>\n",
       "      <th>15</th>\n",
       "      <td>0</td>\n",
       "      <td>Over Temperature Restart (0/1)</td>\n",
       "    </tr>\n",
       "    <tr>\n",
       "      <th>16</th>\n",
       "      <td>1</td>\n",
       "      <td>LCD Backlight On (0/1)</td>\n",
       "    </tr>\n",
       "    <tr>\n",
       "      <th>17</th>\n",
       "      <td>1</td>\n",
       "      <td>Alarm On Primary Source Interrupt (0/1)</td>\n",
       "    </tr>\n",
       "    <tr>\n",
       "      <th>18</th>\n",
       "      <td>1</td>\n",
       "      <td>Fault Code Record (0/1)</td>\n",
       "    </tr>\n",
       "    <tr>\n",
       "      <th>19</th>\n",
       "      <td>0</td>\n",
       "      <td>Overload Bypass (0/1)</td>\n",
       "    </tr>\n",
       "    <tr>\n",
       "      <th>20</th>\n",
       "      <td>1</td>\n",
       "      <td>LCD Timeout To Default Page (0/1)</td>\n",
       "    </tr>\n",
       "    <tr>\n",
       "      <th>21</th>\n",
       "      <td>0</td>\n",
       "      <td>Output Mode (0-4)</td>\n",
       "    </tr>\n",
       "    <tr>\n",
       "      <th>22</th>\n",
       "      <td>27.0</td>\n",
       "      <td>Battery Re-discharge Voltage (V)</td>\n",
       "    </tr>\n",
       "    <tr>\n",
       "      <th>23</th>\n",
       "      <td>0</td>\n",
       "      <td>PK OK (0/1)</td>\n",
       "    </tr>\n",
       "    <tr>\n",
       "      <th>24</th>\n",
       "      <td>1</td>\n",
       "      <td>PK Power Balance (0/1)</td>\n",
       "    </tr>\n",
       "  </tbody>\n",
       "</table>\n",
       "</div>"
      ],
      "text/plain": [
       "    Value                                        Description\n",
       "0   230.0                              AC Output Voltage (V)\n",
       "1    50.0                           AC Output Frequency (Hz)\n",
       "2    0030                    Maximum AC Charging Current (A)\n",
       "3    21.0                          Battery Under Voltage (V)\n",
       "4    27.0                         Charging Float Voltage (V)\n",
       "5    28.2                          Charging Bulk Voltage (V)\n",
       "6    23.0              Battery Default Re-charge Voltage (V)\n",
       "7      50                           Max Charging Current (A)\n",
       "8       0         Input Voltage Range (0: Appliance, 1: UPS)\n",
       "9       0               Output Source (0: Utility, 1: Solar)\n",
       "10      2  Charge Source (1: Solar, 2: Solar & Utility, 3...\n",
       "11      0                                       Battery Type\n",
       "12      0                               Silence Buzzer (0/1)\n",
       "13      0                                 Power Saving (0/1)\n",
       "14      0                             Overload Restart (0/1)\n",
       "15      0                     Over Temperature Restart (0/1)\n",
       "16      1                             LCD Backlight On (0/1)\n",
       "17      1            Alarm On Primary Source Interrupt (0/1)\n",
       "18      1                            Fault Code Record (0/1)\n",
       "19      0                              Overload Bypass (0/1)\n",
       "20      1                  LCD Timeout To Default Page (0/1)\n",
       "21      0                                  Output Mode (0-4)\n",
       "22   27.0                   Battery Re-discharge Voltage (V)\n",
       "23      0                                        PK OK (0/1)\n",
       "24      1                             PK Power Balance (0/1)"
      ]
     },
     "execution_count": 21,
     "metadata": {},
     "output_type": "execute_result"
    }
   ],
   "source": [
    "pd.DataFrame(zip(qdi_data, [\n",
    "    'AC Output Voltage (V)',\n",
    "    'AC Output Frequency (Hz)',\n",
    "    'Maximum AC Charging Current (A)',\n",
    "    'Battery Under Voltage (V)',\n",
    "    'Charging Float Voltage (V)',\n",
    "    'Charging Bulk Voltage (V)',\n",
    "    'Battery Default Re-charge Voltage (V)',\n",
    "    'Max Charging Current (A)',\n",
    "    'Input Voltage Range (0: Appliance, 1: UPS)',\n",
    "    'Output Source (0: Utility, 1: Solar)',\n",
    "    'Charge Source (1: Solar, 2: Solar & Utility, 3: Only Solar)',\n",
    "    'Battery Type',\n",
    "    'Silence Buzzer (0/1)',\n",
    "    'Power Saving (0/1)',\n",
    "    'Overload Restart (0/1)',\n",
    "    'Over Temperature Restart (0/1)',\n",
    "    'LCD Backlight On (0/1)',\n",
    "    'Alarm On Primary Source Interrupt (0/1)',\n",
    "    'Fault Code Record (0/1)',\n",
    "    'Overload Bypass (0/1)',\n",
    "    'LCD Timeout To Default Page (0/1)',\n",
    "    'Output Mode (0-4)',\n",
    "    'Battery Re-discharge Voltage (V)',\n",
    "    'PK OK (0/1)',\n",
    "    'PK Power Balance (0/1)',\n",
    "]), columns=['Value', 'Description'])"
   ]
  },
  {
   "cell_type": "markdown",
   "metadata": {},
   "source": [
    "### Query Device Warning Status"
   ]
  },
  {
   "cell_type": "markdown",
   "metadata": {},
   "source": [
    "_Details are available in the official documents_"
   ]
  },
  {
   "cell_type": "code",
   "execution_count": 22,
   "metadata": {},
   "outputs": [
    {
     "data": {
      "text/plain": [
       "'0000000000000000000000000000000'"
      ]
     },
     "execution_count": 22,
     "metadata": {},
     "output_type": "execute_result"
    }
   ],
   "source": [
    "execute_command('QPIWS')"
   ]
  },
  {
   "cell_type": "markdown",
   "metadata": {},
   "source": [
    "### Query Device Flag Status"
   ]
  },
  {
   "cell_type": "markdown",
   "metadata": {},
   "source": [
    "_Details are available in the official documents_"
   ]
  },
  {
   "cell_type": "markdown",
   "metadata": {},
   "source": [
    "| Flag | Description                       |\n",
    "|-----:|:----------------------------------|\n",
    "|    a | Silence buzzer                    |\n",
    "|    b | Overload bypass                   |\n",
    "|    j | Power saving                      |\n",
    "|    u | Overload retart                   |\n",
    "|    v | Over temperature restart          |\n",
    "|    k | Return to default page after 1min |\n",
    "|    x | Backlight on                      |\n",
    "|    y | Alarm on primary source interrupt |\n",
    "|    z | Fault code record                 |"
   ]
  },
  {
   "cell_type": "code",
   "execution_count": 23,
   "metadata": {},
   "outputs": [
    {
     "data": {
      "text/plain": [
       "'EkxyzDabjuv'"
      ]
     },
     "execution_count": 23,
     "metadata": {},
     "output_type": "execute_result"
    }
   ],
   "source": [
    "execute_command('QFLAG')"
   ]
  },
  {
   "cell_type": "markdown",
   "metadata": {},
   "source": [
    "### Query Battery Equalization Status"
   ]
  },
  {
   "cell_type": "code",
   "execution_count": 24,
   "metadata": {},
   "outputs": [],
   "source": [
    "qbeqi_data = execute_command('QBEQI').split(' ')"
   ]
  },
  {
   "cell_type": "code",
   "execution_count": 25,
   "metadata": {},
   "outputs": [
    {
     "data": {
      "text/html": [
       "<div>\n",
       "<style scoped>\n",
       "    .dataframe tbody tr th:only-of-type {\n",
       "        vertical-align: middle;\n",
       "    }\n",
       "\n",
       "    .dataframe tbody tr th {\n",
       "        vertical-align: top;\n",
       "    }\n",
       "\n",
       "    .dataframe thead th {\n",
       "        text-align: right;\n",
       "    }\n",
       "</style>\n",
       "<table border=\"1\" class=\"dataframe\">\n",
       "  <thead>\n",
       "    <tr style=\"text-align: right;\">\n",
       "      <th></th>\n",
       "      <th>Value</th>\n",
       "      <th>Description</th>\n",
       "    </tr>\n",
       "  </thead>\n",
       "  <tbody>\n",
       "    <tr>\n",
       "      <th>0</th>\n",
       "      <td>0</td>\n",
       "      <td>Equalization Enabled (0/1)</td>\n",
       "    </tr>\n",
       "    <tr>\n",
       "      <th>1</th>\n",
       "      <td>060</td>\n",
       "      <td>Equalization Time (Minute)</td>\n",
       "    </tr>\n",
       "    <tr>\n",
       "      <th>2</th>\n",
       "      <td>030</td>\n",
       "      <td>Equalization Period (Day)</td>\n",
       "    </tr>\n",
       "    <tr>\n",
       "      <th>3</th>\n",
       "      <td>060</td>\n",
       "      <td>Equalization Max Current (A)</td>\n",
       "    </tr>\n",
       "    <tr>\n",
       "      <th>4</th>\n",
       "      <td>030</td>\n",
       "      <td>-Reserved-</td>\n",
       "    </tr>\n",
       "    <tr>\n",
       "      <th>5</th>\n",
       "      <td>29.20</td>\n",
       "      <td>Equalization Voltage (V)</td>\n",
       "    </tr>\n",
       "    <tr>\n",
       "      <th>6</th>\n",
       "      <td>000</td>\n",
       "      <td>-Reserved-</td>\n",
       "    </tr>\n",
       "    <tr>\n",
       "      <th>7</th>\n",
       "      <td>120</td>\n",
       "      <td>Equalization Over Time (Minute)</td>\n",
       "    </tr>\n",
       "    <tr>\n",
       "      <th>8</th>\n",
       "      <td>0</td>\n",
       "      <td>Equalization Active Status (0/1)</td>\n",
       "    </tr>\n",
       "    <tr>\n",
       "      <th>9</th>\n",
       "      <td>0000</td>\n",
       "      <td>Equalization Elapse Time (Hour)</td>\n",
       "    </tr>\n",
       "  </tbody>\n",
       "</table>\n",
       "</div>"
      ],
      "text/plain": [
       "   Value                       Description\n",
       "0      0        Equalization Enabled (0/1)\n",
       "1    060        Equalization Time (Minute)\n",
       "2    030         Equalization Period (Day)\n",
       "3    060      Equalization Max Current (A)\n",
       "4    030                        -Reserved-\n",
       "5  29.20          Equalization Voltage (V)\n",
       "6    000                        -Reserved-\n",
       "7    120   Equalization Over Time (Minute)\n",
       "8      0  Equalization Active Status (0/1)\n",
       "9   0000   Equalization Elapse Time (Hour)"
      ]
     },
     "execution_count": 25,
     "metadata": {},
     "output_type": "execute_result"
    }
   ],
   "source": [
    "pd.DataFrame(zip(qbeqi_data, [\n",
    "    'Equalization Enabled (0/1)',\n",
    "    'Equalization Time (Minute)',\n",
    "    'Equalization Period (Day)',\n",
    "    'Equalization Max Current (A)',\n",
    "    '-Reserved-',\n",
    "    'Equalization Voltage (V)',\n",
    "    '-Reserved-',\n",
    "    'Equalization Over Time (Minute)',\n",
    "    'Equalization Active Status (0/1)',\n",
    "    'Equalization Elapse Time (Hour)',\n",
    "]), columns=['Value', 'Description'])"
   ]
  },
  {
   "cell_type": "code",
   "execution_count": 26,
   "metadata": {},
   "outputs": [],
   "source": [
    "connection.close()"
   ]
  }
 ],
 "metadata": {
  "kernelspec": {
   "display_name": "Python 3 (ipykernel)",
   "language": "python",
   "name": "python3"
  },
  "language_info": {
   "codemirror_mode": {
    "name": "ipython",
    "version": 3
   },
   "file_extension": ".py",
   "mimetype": "text/x-python",
   "name": "python",
   "nbconvert_exporter": "python",
   "pygments_lexer": "ipython3",
   "version": "3.9.2"
  }
 },
 "nbformat": 4,
 "nbformat_minor": 4
}
